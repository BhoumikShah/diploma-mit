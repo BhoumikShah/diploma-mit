{
  "cells": [
    {
      "cell_type": "code",
      "execution_count": 6,
      "metadata": {
        "colab": {
          "base_uri": "https://localhost:8080/"
        },
        "id": "eVIuFqAxE8pw",
        "outputId": "26d248b1-46ee-4934-9b4b-7f4276f88a94"
      },
      "outputs": [
        {
          "name": "stdout",
          "output_type": "stream",
          "text": [
            "Requirement already satisfied: numpy in c:\\users\\bhoumik\\anaconda3\\lib\\site-packages (1.26.4)\n",
            "Requirement already satisfied: pandas in c:\\users\\bhoumik\\anaconda3\\lib\\site-packages (2.1.4)\n",
            "Requirement already satisfied: mlxtend in c:\\users\\bhoumik\\anaconda3\\lib\\site-packages (0.23.1)\n",
            "Requirement already satisfied: python-dateutil>=2.8.2 in c:\\users\\bhoumik\\anaconda3\\lib\\site-packages (from pandas) (2.8.2)\n",
            "Requirement already satisfied: pytz>=2020.1 in c:\\users\\bhoumik\\anaconda3\\lib\\site-packages (from pandas) (2023.3.post1)\n",
            "Requirement already satisfied: tzdata>=2022.1 in c:\\users\\bhoumik\\anaconda3\\lib\\site-packages (from pandas) (2023.3)\n",
            "Requirement already satisfied: scipy>=1.2.1 in c:\\users\\bhoumik\\anaconda3\\lib\\site-packages (from mlxtend) (1.11.4)\n",
            "Requirement already satisfied: scikit-learn>=1.0.2 in c:\\users\\bhoumik\\anaconda3\\lib\\site-packages (from mlxtend) (1.2.2)\n",
            "Requirement already satisfied: matplotlib>=3.0.0 in c:\\users\\bhoumik\\anaconda3\\lib\\site-packages (from mlxtend) (3.8.0)\n",
            "Requirement already satisfied: joblib>=0.13.2 in c:\\users\\bhoumik\\anaconda3\\lib\\site-packages (from mlxtend) (1.2.0)\n",
            "Requirement already satisfied: contourpy>=1.0.1 in c:\\users\\bhoumik\\anaconda3\\lib\\site-packages (from matplotlib>=3.0.0->mlxtend) (1.2.0)\n",
            "Requirement already satisfied: cycler>=0.10 in c:\\users\\bhoumik\\anaconda3\\lib\\site-packages (from matplotlib>=3.0.0->mlxtend) (0.11.0)\n",
            "Requirement already satisfied: fonttools>=4.22.0 in c:\\users\\bhoumik\\anaconda3\\lib\\site-packages (from matplotlib>=3.0.0->mlxtend) (4.25.0)\n",
            "Requirement already satisfied: kiwisolver>=1.0.1 in c:\\users\\bhoumik\\anaconda3\\lib\\site-packages (from matplotlib>=3.0.0->mlxtend) (1.4.4)\n",
            "Requirement already satisfied: packaging>=20.0 in c:\\users\\bhoumik\\anaconda3\\lib\\site-packages (from matplotlib>=3.0.0->mlxtend) (23.2)\n",
            "Requirement already satisfied: pillow>=6.2.0 in c:\\users\\bhoumik\\anaconda3\\lib\\site-packages (from matplotlib>=3.0.0->mlxtend) (10.2.0)\n",
            "Requirement already satisfied: pyparsing>=2.3.1 in c:\\users\\bhoumik\\anaconda3\\lib\\site-packages (from matplotlib>=3.0.0->mlxtend) (3.0.9)\n",
            "Requirement already satisfied: six>=1.5 in c:\\users\\bhoumik\\anaconda3\\lib\\site-packages (from python-dateutil>=2.8.2->pandas) (1.16.0)\n",
            "Requirement already satisfied: threadpoolctl>=2.0.0 in c:\\users\\bhoumik\\anaconda3\\lib\\site-packages (from scikit-learn>=1.0.2->mlxtend) (2.2.0)\n"
          ]
        }
      ],
      "source": [
        "!pip install numpy pandas mlxtend\n"
      ]
    },
    {
      "cell_type": "code",
      "execution_count": 8,
      "metadata": {
        "colab": {
          "base_uri": "https://localhost:8080/"
        },
        "id": "qtRwkCObFDOp",
        "outputId": "3f1343c2-58f5-4adf-8270-f0a991b1a4d7"
      },
      "outputs": [
        {
          "ename": "ModuleNotFoundError",
          "evalue": "No module named 'mlxtend'",
          "output_type": "error",
          "traceback": [
            "\u001b[1;31m---------------------------------------------------------------------------\u001b[0m",
            "\u001b[1;31mModuleNotFoundError\u001b[0m                       Traceback (most recent call last)",
            "Cell \u001b[1;32mIn[8], line 2\u001b[0m\n\u001b[0;32m      1\u001b[0m \u001b[38;5;66;03m# Importing libraries\u001b[39;00m\n\u001b[1;32m----> 2\u001b[0m \u001b[38;5;28;01mfrom\u001b[39;00m \u001b[38;5;21;01mmlxtend\u001b[39;00m\u001b[38;5;21;01m.\u001b[39;00m\u001b[38;5;21;01mfrequent_patterns\u001b[39;00m \u001b[38;5;28;01mimport\u001b[39;00m apriori, association_rules\n\u001b[0;32m      3\u001b[0m \u001b[38;5;28;01mimport\u001b[39;00m \u001b[38;5;21;01mpandas\u001b[39;00m \u001b[38;5;28;01mas\u001b[39;00m \u001b[38;5;21;01mpd\u001b[39;00m\n\u001b[0;32m      5\u001b[0m \u001b[38;5;66;03m# Sample dataset\u001b[39;00m\n",
            "\u001b[1;31mModuleNotFoundError\u001b[0m: No module named 'mlxtend'"
          ]
        }
      ],
      "source": [
        "# Importing libraries\n",
        "from mlxtend.frequent_patterns import apriori, association_rules\n",
        "import pandas as pd\n",
        "\n",
        "# Sample dataset\n",
        "data = {\n",
        "    'TransactionID': [1, 2, 3, 4, 5, 6],\n",
        "    'Items': [['Bread', 'Milk', 'Eggs'],\n",
        "              ['Bread', 'Butter', 'Eggs'],\n",
        "              ['Milk', 'Butter', 'Eggs'],\n",
        "              ['Bread', 'Milk', 'Butter', 'Eggs'],\n",
        "              ['Bread', 'Milk'],\n",
        "              ['Bread', 'Eggs']]\n",
        "}\n",
        "df = pd.DataFrame(data)\n",
        "\n",
        "# Transforming the data to work with Apriori\n",
        "basket_sets = df['Items'].apply(lambda x: pd.Series([1] * len(x), index=x)).fillna(0)\n",
        "\n",
        "# Applying Apriori algorithm\n",
        "frequent_itemsets = apriori(basket_sets, min_support=0.5, use_colnames=True)\n",
        "\n",
        "# Printing frequent itemsets\n",
        "print(frequent_itemsets)\n"
      ]
    }
  ],
  "metadata": {
    "colab": {
      "provenance": []
    },
    "kernelspec": {
      "display_name": "Python 3",
      "name": "python3"
    },
    "language_info": {
      "codemirror_mode": {
        "name": "ipython",
        "version": 3
      },
      "file_extension": ".py",
      "mimetype": "text/x-python",
      "name": "python",
      "nbconvert_exporter": "python",
      "pygments_lexer": "ipython3",
      "version": "3.12.1"
    }
  },
  "nbformat": 4,
  "nbformat_minor": 0
}
